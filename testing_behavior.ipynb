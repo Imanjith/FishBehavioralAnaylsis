{
 "cells": [
  {
   "cell_type": "code",
   "execution_count": 3,
   "metadata": {
    "id": "KEfsnjZY2JqI",
    "ExecuteTime": {
     "end_time": "2024-03-16T13:34:46.855624Z",
     "start_time": "2024-03-16T13:34:46.843786Z"
    }
   },
   "outputs": [],
   "source": [
    "import os\n",
    "import numpy as np\n",
    "import cv2\n",
    "from sklearn.model_selection import train_test_split\n",
    "from tensorflow.keras import layers, models"
   ]
  },
  {
   "cell_type": "code",
   "execution_count": 4,
   "metadata": {
    "id": "bAUB3CcnM65V",
    "ExecuteTime": {
     "end_time": "2024-03-16T13:34:49.691413Z",
     "start_time": "2024-03-16T13:34:49.687866Z"
    }
   },
   "outputs": [],
   "source": [
    "image_height, image_width = 64, 64"
   ]
  },
  {
   "cell_type": "code",
   "execution_count": 5,
   "metadata": {
    "id": "Hf6F3hy4P5na",
    "ExecuteTime": {
     "end_time": "2024-03-16T13:34:51.361433Z",
     "start_time": "2024-03-16T13:34:51.178284Z"
    }
   },
   "outputs": [
    {
     "data": {
      "text/plain": "array([0, 0, 0, 0, 0, 0, 0, 0, 0, 0, 0, 0, 0, 0, 0, 0, 0, 0, 0, 0, 0, 0,\n       0, 0, 0, 0, 0, 0, 0, 0, 0, 0, 0, 0, 0, 0, 0, 0, 0, 0, 0, 0, 0, 0,\n       0, 0, 0, 0, 0, 0, 0, 0, 0, 0, 0, 1, 1, 1, 1, 1, 1, 1, 1, 1, 1, 1,\n       1, 1, 1, 1, 1, 1, 1, 1, 1, 1, 1, 1, 1, 1, 1, 1, 1, 1, 1, 1, 1, 1,\n       1, 1, 1, 1, 1, 1, 1, 1])"
     },
     "execution_count": 5,
     "metadata": {},
     "output_type": "execute_result"
    }
   ],
   "source": [
    "def load_data(folder_path):\n",
    "    X = []\n",
    "    y = []\n",
    "    for label, subfolder in enumerate(['normal', 'abnormal']):\n",
    "        subfolder_path = os.path.join(folder_path, subfolder)\n",
    "        for image_filename in os.listdir(subfolder_path):\n",
    "            image_path = os.path.join(subfolder_path, image_filename)\n",
    "            image = cv2.imread(image_path)\n",
    "            image = cv2.resize(image, (image_height, image_width))\n",
    "            image = image.astype('float32') / 255.0  # Normalize pixel values\n",
    "            X.append(image)\n",
    "            y.append(label)\n",
    "    return np.array(X), np.array(y)\n",
    "\n",
    "dataset_path = 'dataset'\n",
    "X, y = load_data(dataset_path)\n",
    "X\n",
    "y"
   ]
  },
  {
   "cell_type": "code",
   "execution_count": 6,
   "metadata": {
    "id": "qe0j2suL3Aqo",
    "ExecuteTime": {
     "end_time": "2024-03-16T13:34:53.553743Z",
     "start_time": "2024-03-16T13:34:53.547249Z"
    }
   },
   "outputs": [],
   "source": [
    "# Step 3: Split Data\n",
    "X_train, X_test, y_train, y_test = train_test_split(X, y, test_size=0.4, random_state=42)"
   ]
  },
  {
   "cell_type": "code",
   "execution_count": 7,
   "metadata": {
    "id": "EFKGTWTI8J6m",
    "ExecuteTime": {
     "end_time": "2024-03-16T13:34:55.397749Z",
     "start_time": "2024-03-16T13:34:55.306488Z"
    }
   },
   "outputs": [
    {
     "name": "stderr",
     "output_type": "stream",
     "text": [
      "C:\\Projects\\FishBehavioralAnaylsis\\.venv\\Lib\\site-packages\\keras\\src\\layers\\convolutional\\base_conv.py:99: UserWarning: Do not pass an `input_shape`/`input_dim` argument to a layer. When using Sequential models, prefer using an `Input(shape)` object as the first layer in the model instead.\n",
      "  super().__init__(\n"
     ]
    }
   ],
   "source": [
    "model = models.Sequential([\n",
    "    layers.Conv2D(32, (3, 3), activation='relu', input_shape=(image_height, image_width, 3)),\n",
    "    layers.MaxPooling2D((2, 2)),\n",
    "    layers.Conv2D(64, (3, 3), activation='relu'),\n",
    "    layers.MaxPooling2D((2, 2)),\n",
    "    layers.Conv2D(128, (3, 3), activation='relu'),\n",
    "    layers.MaxPooling2D((2, 2)),\n",
    "    layers.Flatten(),\n",
    "    layers.Dense(128, activation='relu'),\n",
    "    layers.Dense(1, activation='sigmoid')\n",
    "])"
   ]
  },
  {
   "cell_type": "code",
   "execution_count": 8,
   "metadata": {
    "id": "tUqmNG8g8Nmg",
    "ExecuteTime": {
     "end_time": "2024-03-16T13:34:56.620235Z",
     "start_time": "2024-03-16T13:34:56.604391Z"
    }
   },
   "outputs": [],
   "source": [
    "model.compile(optimizer='adam',\n",
    "              loss='binary_crossentropy',\n",
    "              metrics=['accuracy'])"
   ]
  },
  {
   "cell_type": "code",
   "execution_count": 9,
   "metadata": {
    "colab": {
     "base_uri": "https://localhost:8080/"
    },
    "id": "I1sc92Lm8RiH",
    "outputId": "c37fe9bd-498e-4370-cd74-56277805c369",
    "ExecuteTime": {
     "end_time": "2024-03-16T13:35:01.338194Z",
     "start_time": "2024-03-16T13:34:58.251378Z"
    }
   },
   "outputs": [
    {
     "name": "stdout",
     "output_type": "stream",
     "text": [
      "Epoch 1/10\n",
      "\u001B[1m2/2\u001B[0m \u001B[32m━━━━━━━━━━━━━━━━━━━━\u001B[0m\u001B[37m\u001B[0m \u001B[1m2s\u001B[0m 257ms/step - accuracy: 0.4720 - loss: 0.6978 - val_accuracy: 0.3590 - val_loss: 0.7489\n",
      "Epoch 2/10\n",
      "\u001B[1m2/2\u001B[0m \u001B[32m━━━━━━━━━━━━━━━━━━━━\u001B[0m\u001B[37m\u001B[0m \u001B[1m0s\u001B[0m 107ms/step - accuracy: 0.5371 - loss: 0.6535 - val_accuracy: 0.6667 - val_loss: 0.6761\n",
      "Epoch 3/10\n",
      "\u001B[1m2/2\u001B[0m \u001B[32m━━━━━━━━━━━━━━━━━━━━\u001B[0m\u001B[37m\u001B[0m \u001B[1m0s\u001B[0m 89ms/step - accuracy: 0.8180 - loss: 0.5878 - val_accuracy: 0.7436 - val_loss: 0.5602\n",
      "Epoch 4/10\n",
      "\u001B[1m2/2\u001B[0m \u001B[32m━━━━━━━━━━━━━━━━━━━━\u001B[0m\u001B[37m\u001B[0m \u001B[1m0s\u001B[0m 73ms/step - accuracy: 0.7334 - loss: 0.5480 - val_accuracy: 0.6410 - val_loss: 0.6601\n",
      "Epoch 5/10\n",
      "\u001B[1m2/2\u001B[0m \u001B[32m━━━━━━━━━━━━━━━━━━━━\u001B[0m\u001B[37m\u001B[0m \u001B[1m0s\u001B[0m 83ms/step - accuracy: 0.9545 - loss: 0.4178 - val_accuracy: 0.8462 - val_loss: 0.4482\n",
      "Epoch 6/10\n",
      "\u001B[1m2/2\u001B[0m \u001B[32m━━━━━━━━━━━━━━━━━━━━\u001B[0m\u001B[37m\u001B[0m \u001B[1m0s\u001B[0m 81ms/step - accuracy: 0.9220 - loss: 0.3212 - val_accuracy: 0.6410 - val_loss: 0.7177\n",
      "Epoch 7/10\n",
      "\u001B[1m2/2\u001B[0m \u001B[32m━━━━━━━━━━━━━━━━━━━━\u001B[0m\u001B[37m\u001B[0m \u001B[1m0s\u001B[0m 72ms/step - accuracy: 0.9324 - loss: 0.2282 - val_accuracy: 0.8205 - val_loss: 0.2721\n",
      "Epoch 8/10\n",
      "\u001B[1m2/2\u001B[0m \u001B[32m━━━━━━━━━━━━━━━━━━━━\u001B[0m\u001B[37m\u001B[0m \u001B[1m0s\u001B[0m 69ms/step - accuracy: 0.8882 - loss: 0.2372 - val_accuracy: 0.7436 - val_loss: 0.7414\n",
      "Epoch 9/10\n",
      "\u001B[1m2/2\u001B[0m \u001B[32m━━━━━━━━━━━━━━━━━━━━\u001B[0m\u001B[37m\u001B[0m \u001B[1m0s\u001B[0m 77ms/step - accuracy: 0.9441 - loss: 0.1759 - val_accuracy: 0.9231 - val_loss: 0.2943\n",
      "Epoch 10/10\n",
      "\u001B[1m2/2\u001B[0m \u001B[32m━━━━━━━━━━━━━━━━━━━━\u001B[0m\u001B[37m\u001B[0m \u001B[1m0s\u001B[0m 78ms/step - accuracy: 0.9883 - loss: 0.0915 - val_accuracy: 0.9487 - val_loss: 0.1481\n"
     ]
    },
    {
     "data": {
      "text/plain": "<keras.src.callbacks.history.History at 0x2b6a331d880>"
     },
     "execution_count": 9,
     "metadata": {},
     "output_type": "execute_result"
    }
   ],
   "source": [
    "# Step 6: Train Model\n",
    "model.fit(X_train, y_train, epochs=10, batch_size=32, validation_data=(X_test, y_test))\n"
   ]
  },
  {
   "cell_type": "code",
   "execution_count": 10,
   "metadata": {
    "colab": {
     "base_uri": "https://localhost:8080/"
    },
    "id": "8YFpDd9x8Yjy",
    "outputId": "7c616f16-99a1-47da-b2f7-6e978804adaa",
    "ExecuteTime": {
     "end_time": "2024-03-16T13:35:05.037299Z",
     "start_time": "2024-03-16T13:35:04.941373Z"
    }
   },
   "outputs": [
    {
     "name": "stdout",
     "output_type": "stream",
     "text": [
      "\u001B[1m2/2\u001B[0m \u001B[32m━━━━━━━━━━━━━━━━━━━━\u001B[0m\u001B[37m\u001B[0m \u001B[1m0s\u001B[0m 8ms/step - accuracy: 0.9450 - loss: 0.1694 \n",
      "Test accuracy: 0.9487179517745972\n"
     ]
    }
   ],
   "source": [
    "test_loss, test_accuracy = model.evaluate(X_test, y_test)\n",
    "print('Test accuracy:', test_accuracy)"
   ]
  },
  {
   "cell_type": "code",
   "execution_count": 12,
   "metadata": {
    "colab": {
     "base_uri": "https://localhost:8080/"
    },
    "id": "eWA3RDpX8tEr",
    "outputId": "c52bbfa5-dcad-47b0-a83f-e8be9b10758c",
    "ExecuteTime": {
     "end_time": "2024-03-16T13:35:48.619053Z",
     "start_time": "2024-03-16T13:35:48.545595Z"
    }
   },
   "outputs": [
    {
     "name": "stdout",
     "output_type": "stream",
     "text": [
      "\u001B[1m1/1\u001B[0m \u001B[32m━━━━━━━━━━━━━━━━━━━━\u001B[0m\u001B[37m\u001B[0m \u001B[1m0s\u001B[0m 24ms/step\n",
      "abnormal10_1800_2.png is ABNORMAL\n"
     ]
    }
   ],
   "source": [
    "import cv2\n",
    "import numpy as np\n",
    "\n",
    "sample_image = 'abnormal10_1800_2.png'\n",
    "\n",
    "# Load the image\n",
    "image = cv2.imread(sample_image)\n",
    "\n",
    "# Check if the image is loaded successfully\n",
    "if image is None:\n",
    "    print(f\"Failed to load {sample_image}\")\n",
    "else:\n",
    "    # Resize the image\n",
    "    image = cv2.resize(image, (image_height, image_width))\n",
    "\n",
    "    # Check if the image is resized successfully\n",
    "    if image is None:\n",
    "        print(f\"Failed to resize {sample_image}\")\n",
    "    else:\n",
    "        # Normalize pixel values\n",
    "        image = image.astype('float32') / 255.0  \n",
    "\n",
    "        # Add batch dimension\n",
    "        image = np.expand_dims(image, axis=0)  \n",
    "\n",
    "        # Make prediction\n",
    "        prediction = model.predict(image)\n",
    "\n",
    "        # Print prediction\n",
    "        if prediction[0][0] > 0.5:\n",
    "            print(sample_image, 'is ABNORMAL')\n",
    "        else:\n",
    "            print(sample_image, 'is NORMAL')\n"
   ]
  },
  {
   "cell_type": "code",
   "execution_count": 17,
   "metadata": {
    "ExecuteTime": {
     "end_time": "2024-03-16T13:55:35.214053Z",
     "start_time": "2024-03-16T13:55:35.120497Z"
    }
   },
   "outputs": [
    {
     "name": "stdout",
     "output_type": "stream",
     "text": [
      "\u001B[1m2/2\u001B[0m \u001B[32m━━━━━━━━━━━━━━━━━━━━\u001B[0m\u001B[37m\u001B[0m \u001B[1m0s\u001B[0m 7ms/step \n",
      "              precision    recall  f1-score   support\n",
      "\n",
      "    abnormal       0.93      1.00      0.96        25\n",
      "      normal       1.00      0.86      0.92        14\n",
      "\n",
      "    accuracy                           0.95        39\n",
      "   macro avg       0.96      0.93      0.94        39\n",
      "weighted avg       0.95      0.95      0.95        39\n"
     ]
    }
   ],
   "source": [
    "from sklearn.metrics import classification_report\n",
    "\n",
    "y_pred = model.predict(X_test)\n",
    "y_pred_classes = (y_pred > 0.5).astype(\"int32\")\n",
    "\n",
    "print(classification_report(y_test, y_pred_classes, target_names=['abnormal', 'normal']))\n",
    "#print(classification_report(y_test, y_pred_classes))\n"
   ]
  },
  {
   "cell_type": "code",
   "outputs": [
    {
     "name": "stdout",
     "output_type": "stream",
     "text": [
      "Confusion Matrix:\n",
      "[[25  0]\n",
      " [ 2 12]]\n"
     ]
    }
   ],
   "source": [
    "from sklearn.metrics import confusion_matrix\n",
    "\n",
    "cm = confusion_matrix(y_test, y_pred_classes)\n",
    "\n",
    "print(\"Confusion Matrix:\")\n",
    "print(cm)"
   ],
   "metadata": {
    "collapsed": false,
    "ExecuteTime": {
     "end_time": "2024-03-16T14:05:50.107874Z",
     "start_time": "2024-03-16T14:05:50.100357Z"
    }
   },
   "execution_count": 19
  },
  {
   "cell_type": "code",
   "outputs": [
    {
     "data": {
      "text/plain": "<Figure size 800x600 with 2 Axes>",
      "image/png": "[encoded data removed]"
     },
     "metadata": {},
     "output_type": "display_data"
    }
   ],
   "source": [
    "import matplotlib.pyplot as plt\n",
    "import seaborn as sns\n",
    "\n",
    "cm = confusion_matrix(y_test, y_pred_classes)\n",
    "\n",
    "plt.figure(figsize=(8,6))\n",
    "sns.heatmap(cm, annot=True, cmap=\"BuGn\", fmt=\"d\", xticklabels=['abnormal', 'normal'], yticklabels=['abnormal', 'normal'])\n",
    "plt.xlabel(\"Predicted\")\n",
    "plt.ylabel(\"Actual\")\n",
    "plt.title(\"Confusion Matrix\")\n",
    "plt.show()"
   ],
   "metadata": {
    "collapsed": false,
    "ExecuteTime": {
     "end_time": "2024-03-16T14:09:41.833601Z",
     "start_time": "2024-03-16T14:09:41.719986Z"
    }
   },
   "execution_count": 30
  },
  {
   "cell_type": "code",
   "outputs": [],
   "source": [
    "|"
   ],
   "metadata": {
    "collapsed": false
   }
  }
 ],
 "metadata": {
  "colab": {
   "provenance": []
  },
  "kernelspec": {
   "display_name": "Python 3 (ipykernel)",
   "language": "python",
   "name": "python3"
  },
  "language_info": {
   "codemirror_mode": {
    "name": "ipython",
    "version": 3
   },
   "file_extension": ".py",
   "mimetype": "text/x-python",
   "name": "python",
   "nbconvert_exporter": "python",
   "pygments_lexer": "ipython3",
   "version": "3.7.0"
  }
 },
 "nbformat": 4,
 "nbformat_minor": 1
}
