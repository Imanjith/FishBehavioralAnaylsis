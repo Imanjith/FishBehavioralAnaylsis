{
 "cells": [
  {
   "cell_type": "code",
   "execution_count": 13,
   "metadata": {
    "ExecuteTime": {
     "end_time": "2024-03-15T05:43:59.943970Z",
     "start_time": "2024-03-15T05:43:52.326238Z"
    },
    "id": "KEfsnjZY2JqI"
   },
   "outputs": [],
   "source": [
    "import os\n",
    "import numpy as np\n",
    "import cv2\n",
    "from sklearn.model_selection import train_test_split\n",
    "from tensorflow.keras import layers, models"
   ]
  },
  {
   "cell_type": "code",
   "execution_count": 14,
   "metadata": {
    "ExecuteTime": {
     "end_time": "2024-03-15T05:43:59.950371Z",
     "start_time": "2024-03-15T05:43:59.946209Z"
    },
    "id": "bAUB3CcnM65V"
   },
   "outputs": [],
   "source": [
    "image_height, image_width = 64, 64"
   ]
  },
  {
   "cell_type": "code",
   "execution_count": 15,
   "metadata": {
    "ExecuteTime": {
     "end_time": "2024-03-15T05:44:00.322279Z",
     "start_time": "2024-03-15T05:43:59.951376Z"
    },
    "id": "Hf6F3hy4P5na"
   },
   "outputs": [
    {
     "data": {
      "text/plain": [
       "array([0, 0, 0, 0, 0, 0, 0, 0, 0, 0, 0, 0, 0, 0, 0, 0, 0, 0, 0, 0, 0, 0,\n",
       "       0, 0, 0, 0, 0, 0, 0, 0, 0, 0, 0, 0, 0, 0, 0, 0, 0, 0, 0, 0, 0, 0,\n",
       "       0, 0, 0, 0, 0, 0, 0, 0, 0, 0, 0, 1, 1, 1, 1, 1, 1, 1, 1, 1, 1, 1,\n",
       "       1, 1, 1, 1, 1, 1, 1, 1, 1, 1, 1, 1, 1, 1, 1, 1, 1, 1, 1, 1, 1, 1,\n",
       "       1, 1, 1, 1, 1, 1, 1, 1])"
      ]
     },
     "execution_count": 15,
     "metadata": {},
     "output_type": "execute_result"
    }
   ],
   "source": [
    "def load_data(folder_path):\n",
    "    X = []\n",
    "    y = []\n",
    "    for label, subfolder in enumerate(['normal', 'abnormal']):\n",
    "        subfolder_path = os.path.join(folder_path, subfolder)\n",
    "        for image_filename in os.listdir(subfolder_path):\n",
    "            image_path = os.path.join(subfolder_path, image_filename)\n",
    "            image = cv2.imread(image_path)\n",
    "            image = cv2.resize(image, (image_height, image_width))\n",
    "            image = image.astype('float32') / 255.0  # Normalize pixel values\n",
    "            X.append(image)\n",
    "            y.append(label)\n",
    "    return np.array(X), np.array(y)\n",
    "\n",
    "dataset_path = 'dataset'\n",
    "X, y = load_data(dataset_path)\n",
    "X\n",
    "y"
   ]
  },
  {
   "cell_type": "code",
   "execution_count": 16,
   "metadata": {
    "ExecuteTime": {
     "end_time": "2024-03-15T05:44:00.335282Z",
     "start_time": "2024-03-15T05:44:00.324284Z"
    },
    "id": "qe0j2suL3Aqo"
   },
   "outputs": [],
   "source": [
    "# Step 3: Split Data\n",
    "X_train, X_test, y_train, y_test = train_test_split(X, y, test_size=0.4, random_state=42)"
   ]
  },
  {
   "cell_type": "code",
   "execution_count": 17,
   "metadata": {
    "ExecuteTime": {
     "end_time": "2024-03-15T05:44:00.508659Z",
     "start_time": "2024-03-15T05:44:00.337288Z"
    },
    "id": "EFKGTWTI8J6m"
   },
   "outputs": [],
   "source": [
    "model = models.Sequential([\n",
    "    layers.Conv2D(32, (3, 3), activation='relu', input_shape=(image_height, image_width, 3)),\n",
    "    layers.MaxPooling2D((2, 2)),\n",
    "    layers.Conv2D(64, (3, 3), activation='relu'),\n",
    "    layers.MaxPooling2D((2, 2)),\n",
    "    layers.Conv2D(128, (3, 3), activation='relu'),\n",
    "    layers.MaxPooling2D((2, 2)),\n",
    "    layers.Flatten(),\n",
    "    layers.Dense(128, activation='relu'),\n",
    "    layers.Dense(1, activation='sigmoid')\n",
    "])"
   ]
  },
  {
   "cell_type": "code",
   "execution_count": 18,
   "metadata": {
    "ExecuteTime": {
     "end_time": "2024-03-15T05:44:11.580972Z",
     "start_time": "2024-03-15T05:44:11.561948Z"
    },
    "id": "tUqmNG8g8Nmg"
   },
   "outputs": [],
   "source": [
    "model.compile(optimizer='adam',\n",
    "              loss='binary_crossentropy',\n",
    "              metrics=['accuracy'])"
   ]
  },
  {
   "cell_type": "code",
   "execution_count": 19,
   "metadata": {
    "ExecuteTime": {
     "end_time": "2024-03-15T05:44:16.402670Z",
     "start_time": "2024-03-15T05:44:12.417626Z"
    },
    "colab": {
     "base_uri": "https://localhost:8080/"
    },
    "id": "I1sc92Lm8RiH",
    "outputId": "c37fe9bd-498e-4370-cd74-56277805c369"
   },
   "outputs": [
    {
     "name": "stdout",
     "output_type": "stream",
     "text": [
      "Epoch 1/20\n",
      "\u001b[1m2/2\u001b[0m \u001b[32m━━━━━━━━━━━━━━━━━━━━\u001b[0m\u001b[37m\u001b[0m \u001b[1m2s\u001b[0m 222ms/step - accuracy: 0.4916 - loss: 0.7402 - val_accuracy: 0.3846 - val_loss: 0.6983\n",
      "Epoch 2/20\n",
      "\u001b[1m2/2\u001b[0m \u001b[32m━━━━━━━━━━━━━━━━━━━━\u001b[0m\u001b[37m\u001b[0m \u001b[1m0s\u001b[0m 86ms/step - accuracy: 0.6606 - loss: 0.6649 - val_accuracy: 0.6410 - val_loss: 0.6336\n",
      "Epoch 3/20\n",
      "\u001b[1m2/2\u001b[0m \u001b[32m━━━━━━━━━━━━━━━━━━━━\u001b[0m\u001b[37m\u001b[0m \u001b[1m0s\u001b[0m 85ms/step - accuracy: 0.5280 - loss: 0.6594 - val_accuracy: 0.7949 - val_loss: 0.6437\n",
      "Epoch 4/20\n",
      "\u001b[1m2/2\u001b[0m \u001b[32m━━━━━━━━━━━━━━━━━━━━\u001b[0m\u001b[37m\u001b[0m \u001b[1m0s\u001b[0m 94ms/step - accuracy: 0.7880 - loss: 0.6249 - val_accuracy: 0.8462 - val_loss: 0.6358\n",
      "Epoch 5/20\n",
      "\u001b[1m2/2\u001b[0m \u001b[32m━━━━━━━━━━━━━━━━━━━━\u001b[0m\u001b[37m\u001b[0m \u001b[1m0s\u001b[0m 85ms/step - accuracy: 0.9766 - loss: 0.5749 - val_accuracy: 0.8718 - val_loss: 0.5697\n",
      "Epoch 6/20\n",
      "\u001b[1m2/2\u001b[0m \u001b[32m━━━━━━━━━━━━━━━━━━━━\u001b[0m\u001b[37m\u001b[0m \u001b[1m0s\u001b[0m 79ms/step - accuracy: 0.9441 - loss: 0.4870 - val_accuracy: 0.8718 - val_loss: 0.4635\n",
      "Epoch 7/20\n",
      "\u001b[1m2/2\u001b[0m \u001b[32m━━━━━━━━━━━━━━━━━━━━\u001b[0m\u001b[37m\u001b[0m \u001b[1m0s\u001b[0m 80ms/step - accuracy: 0.9558 - loss: 0.3619 - val_accuracy: 0.8718 - val_loss: 0.4352\n",
      "Epoch 8/20\n",
      "\u001b[1m2/2\u001b[0m \u001b[32m━━━━━━━━━━━━━━━━━━━━\u001b[0m\u001b[37m\u001b[0m \u001b[1m0s\u001b[0m 77ms/step - accuracy: 0.9779 - loss: 0.2270 - val_accuracy: 0.9487 - val_loss: 0.2077\n",
      "Epoch 9/20\n",
      "\u001b[1m2/2\u001b[0m \u001b[32m━━━━━━━━━━━━━━━━━━━━\u001b[0m\u001b[37m\u001b[0m \u001b[1m0s\u001b[0m 92ms/step - accuracy: 0.9545 - loss: 0.1751 - val_accuracy: 0.9487 - val_loss: 0.2040\n",
      "Epoch 10/20\n",
      "\u001b[1m2/2\u001b[0m \u001b[32m━━━━━━━━━━━━━━━━━━━━\u001b[0m\u001b[37m\u001b[0m \u001b[1m0s\u001b[0m 81ms/step - accuracy: 1.0000 - loss: 0.0736 - val_accuracy: 0.9487 - val_loss: 0.1065\n",
      "Epoch 11/20\n",
      "\u001b[1m2/2\u001b[0m \u001b[32m━━━━━━━━━━━━━━━━━━━━\u001b[0m\u001b[37m\u001b[0m \u001b[1m0s\u001b[0m 80ms/step - accuracy: 0.9779 - loss: 0.0534 - val_accuracy: 0.8718 - val_loss: 0.4821\n",
      "Epoch 12/20\n",
      "\u001b[1m2/2\u001b[0m \u001b[32m━━━━━━━━━━━━━━━━━━━━\u001b[0m\u001b[37m\u001b[0m \u001b[1m0s\u001b[0m 86ms/step - accuracy: 1.0000 - loss: 0.0404 - val_accuracy: 0.9487 - val_loss: 0.0542\n",
      "Epoch 13/20\n",
      "\u001b[1m2/2\u001b[0m \u001b[32m━━━━━━━━━━━━━━━━━━━━\u001b[0m\u001b[37m\u001b[0m \u001b[1m0s\u001b[0m 82ms/step - accuracy: 0.9766 - loss: 0.0496 - val_accuracy: 1.0000 - val_loss: 0.0854\n",
      "Epoch 14/20\n",
      "\u001b[1m2/2\u001b[0m \u001b[32m━━━━━━━━━━━━━━━━━━━━\u001b[0m\u001b[37m\u001b[0m \u001b[1m0s\u001b[0m 82ms/step - accuracy: 1.0000 - loss: 0.0128 - val_accuracy: 0.6923 - val_loss: 1.2623\n",
      "Epoch 15/20\n",
      "\u001b[1m2/2\u001b[0m \u001b[32m━━━━━━━━━━━━━━━━━━━━\u001b[0m\u001b[37m\u001b[0m \u001b[1m0s\u001b[0m 98ms/step - accuracy: 0.9558 - loss: 0.1298 - val_accuracy: 0.9487 - val_loss: 0.0696\n",
      "Epoch 16/20\n",
      "\u001b[1m2/2\u001b[0m \u001b[32m━━━━━━━━━━━━━━━━━━━━\u001b[0m\u001b[37m\u001b[0m \u001b[1m0s\u001b[0m 118ms/step - accuracy: 1.0000 - loss: 0.0480 - val_accuracy: 0.9487 - val_loss: 0.0525\n",
      "Epoch 17/20\n",
      "\u001b[1m2/2\u001b[0m \u001b[32m━━━━━━━━━━━━━━━━━━━━\u001b[0m\u001b[37m\u001b[0m \u001b[1m0s\u001b[0m 94ms/step - accuracy: 1.0000 - loss: 0.0155 - val_accuracy: 0.9744 - val_loss: 0.0881\n",
      "Epoch 18/20\n",
      "\u001b[1m2/2\u001b[0m \u001b[32m━━━━━━━━━━━━━━━━━━━━\u001b[0m\u001b[37m\u001b[0m \u001b[1m0s\u001b[0m 122ms/step - accuracy: 1.0000 - loss: 0.0031 - val_accuracy: 0.7949 - val_loss: 0.6713\n",
      "Epoch 19/20\n",
      "\u001b[1m2/2\u001b[0m \u001b[32m━━━━━━━━━━━━━━━━━━━━\u001b[0m\u001b[37m\u001b[0m \u001b[1m0s\u001b[0m 154ms/step - accuracy: 0.9883 - loss: 0.0384 - val_accuracy: 1.0000 - val_loss: 0.0743\n",
      "Epoch 20/20\n",
      "\u001b[1m2/2\u001b[0m \u001b[32m━━━━━━━━━━━━━━━━━━━━\u001b[0m\u001b[37m\u001b[0m \u001b[1m0s\u001b[0m 105ms/step - accuracy: 1.0000 - loss: 0.0025 - val_accuracy: 0.9487 - val_loss: 0.1462\n"
     ]
    },
    {
     "data": {
      "text/plain": [
       "<keras.src.callbacks.history.History at 0x2eec2e87550>"
      ]
     },
     "execution_count": 19,
     "metadata": {},
     "output_type": "execute_result"
    }
   ],
   "source": [
    "# Step 6: Train Model\n",
    "model.fit(X_train, y_train, epochs=20, batch_size=32, validation_data=(X_test, y_test))\n"
   ]
  },
  {
   "cell_type": "code",
   "execution_count": 27,
   "metadata": {},
   "outputs": [],
   "source": [
    "model.save(\"bijja.keras\")"
   ]
  },
  {
   "cell_type": "code",
   "execution_count": 20,
   "metadata": {
    "ExecuteTime": {
     "end_time": "2024-03-15T05:44:18.281215Z",
     "start_time": "2024-03-15T05:44:18.157331Z"
    },
    "colab": {
     "base_uri": "https://localhost:8080/"
    },
    "id": "8YFpDd9x8Yjy",
    "outputId": "7c616f16-99a1-47da-b2f7-6e978804adaa"
   },
   "outputs": [
    {
     "name": "stdout",
     "output_type": "stream",
     "text": [
      "\u001b[1m2/2\u001b[0m \u001b[32m━━━━━━━━━━━━━━━━━━━━\u001b[0m\u001b[37m\u001b[0m \u001b[1m0s\u001b[0m 8ms/step - accuracy: 0.9450 - loss: 0.1949 \n",
      "Test accuracy: 0.9487179517745972\n"
     ]
    }
   ],
   "source": [
    "test_loss, test_accuracy = model.evaluate(X_test, y_test)\n",
    "print('Test accuracy:', test_accuracy)"
   ]
  },
  {
   "cell_type": "code",
   "execution_count": 24,
   "metadata": {
    "ExecuteTime": {
     "end_time": "2024-03-15T05:46:07.404274Z",
     "start_time": "2024-03-15T05:46:07.308475Z"
    },
    "colab": {
     "base_uri": "https://localhost:8080/"
    },
    "id": "eWA3RDpX8tEr",
    "outputId": "c52bbfa5-dcad-47b0-a83f-e8be9b10758c"
   },
   "outputs": [
    {
     "name": "stdout",
     "output_type": "stream",
     "text": [
      "\u001b[1m1/1\u001b[0m \u001b[32m━━━━━━━━━━━━━━━━━━━━\u001b[0m\u001b[37m\u001b[0m \u001b[1m0s\u001b[0m 24ms/step\n",
      "normal10_3300_2.png is NORMAL\n"
     ]
    }
   ],
   "source": [
    "import cv2\n",
    "import numpy as np\n",
    "\n",
    "sample_image = 'normal10_3300_2.png'\n",
    "\n",
    "# Load the image\n",
    "image = cv2.imread(sample_image)\n",
    "\n",
    "# Check if the image is loaded successfully\n",
    "if image is None:\n",
    "    print(f\"Failed to load {sample_image}\")\n",
    "else:\n",
    "    # Resize the image\n",
    "    image = cv2.resize(image, (image_height, image_width))\n",
    "\n",
    "    # Check if the image is resized successfully\n",
    "    if image is None:\n",
    "        print(f\"Failed to resize {sample_image}\")\n",
    "    else:\n",
    "        # Normalize pixel values\n",
    "        image = image.astype('float32') / 255.0  \n",
    "\n",
    "        # Add batch dimension\n",
    "        image = np.expand_dims(image, axis=0)  \n",
    "\n",
    "        # Make prediction\n",
    "        prediction = model.predict(image)\n",
    "\n",
    "        # Print prediction\n",
    "        if prediction[0][0] > 0.5:\n",
    "            print(sample_image, 'is ABNORMAL')\n",
    "        else:\n",
    "            print(sample_image, 'is NORMAL')\n"
   ]
  },
  {
   "cell_type": "code",
   "execution_count": 19,
   "metadata": {
    "ExecuteTime": {
     "end_time": "2024-03-11T19:44:23.818141Z",
     "start_time": "2024-03-11T19:44:23.815488Z"
    }
   },
   "outputs": [],
   "source": []
  }
 ],
 "metadata": {
  "colab": {
   "provenance": []
  },
  "kernelspec": {
   "display_name": "Python 3 (ipykernel)",
   "language": "python",
   "name": "python3"
  },
  "language_info": {
   "codemirror_mode": {
    "name": "ipython",
    "version": 3
   },
   "file_extension": ".py",
   "mimetype": "text/x-python",
   "name": "python",
   "nbconvert_exporter": "python",
   "pygments_lexer": "ipython3",
   "version": "3.10.9"
  }
 },
 "nbformat": 4,
 "nbformat_minor": 1
}
