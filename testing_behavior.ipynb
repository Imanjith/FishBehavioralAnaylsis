{
 "cells": [
  {
   "cell_type": "code",
   "execution_count": 14,
   "metadata": {
    "id": "KEfsnjZY2JqI",
    "ExecuteTime": {
     "end_time": "2024-03-30T11:07:16.983404Z",
     "start_time": "2024-03-30T11:07:16.977528Z"
    }
   },
   "outputs": [],
   "source": [
    "import os\n",
    "import numpy as np\n",
    "import cv2\n",
    "from sklearn.model_selection import train_test_split\n",
    "from tensorflow.keras import layers, models\n",
    "import warnings"
   ]
  },
  {
   "cell_type": "code",
   "execution_count": 15,
   "metadata": {
    "id": "bAUB3CcnM65V",
    "ExecuteTime": {
     "end_time": "2024-03-30T11:07:17.996683Z",
     "start_time": "2024-03-30T11:07:17.991588Z"
    }
   },
   "outputs": [],
   "source": [
    "warnings.filterwarnings(\"ignore\")\n",
    "image_height, image_width = 64, 64"
   ]
  },
  {
   "cell_type": "code",
   "execution_count": 16,
   "metadata": {
    "id": "Hf6F3hy4P5na",
    "ExecuteTime": {
     "end_time": "2024-03-30T11:07:19.093203Z",
     "start_time": "2024-03-30T11:07:18.870424Z"
    }
   },
   "outputs": [
    {
     "data": {
      "text/plain": "array([0, 0, 0, 0, 0, 0, 0, 0, 0, 0, 0, 0, 0, 0, 0, 0, 0, 0, 0, 0, 0, 0,\n       0, 0, 0, 0, 0, 0, 0, 0, 0, 0, 0, 0, 0, 0, 0, 0, 0, 0, 0, 0, 0, 0,\n       0, 0, 0, 0, 0, 0, 0, 0, 0, 0, 0, 1, 1, 1, 1, 1, 1, 1, 1, 1, 1, 1,\n       1, 1, 1, 1, 1, 1, 1, 1, 1, 1, 1, 1, 1, 1, 1, 1, 1, 1, 1, 1, 1, 1,\n       1, 1, 1, 1, 1, 1, 1, 1])"
     },
     "execution_count": 16,
     "metadata": {},
     "output_type": "execute_result"
    }
   ],
   "source": [
    "def load_data(folder_path):\n",
    "    X = []\n",
    "    y = []\n",
    "    for label, subfolder in enumerate(['normal', 'abnormal']):\n",
    "        subfolder_path = os.path.join(folder_path, subfolder)\n",
    "        for image_filename in os.listdir(subfolder_path):\n",
    "            image_path = os.path.join(subfolder_path, image_filename)\n",
    "            image = cv2.imread(image_path)\n",
    "            image = cv2.resize(image, (image_height, image_width))\n",
    "            image = image.astype('float32') / 255.0  # Normalize pixel values\n",
    "            X.append(image)\n",
    "            y.append(label)\n",
    "    return np.array(X), np.array(y)\n",
    "\n",
    "dataset_path = 'dataset'\n",
    "X, y = load_data(dataset_path)\n",
    "X\n",
    "y"
   ]
  },
  {
   "cell_type": "code",
   "execution_count": 17,
   "metadata": {
    "id": "qe0j2suL3Aqo",
    "ExecuteTime": {
     "end_time": "2024-03-30T11:07:19.950275Z",
     "start_time": "2024-03-30T11:07:19.941255Z"
    }
   },
   "outputs": [],
   "source": [
    "# Step 3: Split Data\n",
    "X_train, X_test, y_train, y_test = train_test_split(X, y, test_size=0.4, random_state=42)"
   ]
  },
  {
   "cell_type": "code",
   "execution_count": 18,
   "metadata": {
    "id": "EFKGTWTI8J6m",
    "ExecuteTime": {
     "end_time": "2024-03-30T11:07:21.044930Z",
     "start_time": "2024-03-30T11:07:20.976334Z"
    }
   },
   "outputs": [],
   "source": [
    "model = models.Sequential([\n",
    "    layers.Conv2D(32, (3, 3), activation='relu', input_shape=(image_height, image_width, 3)),\n",
    "    layers.MaxPooling2D((2, 2)),\n",
    "    layers.Conv2D(64, (3, 3), activation='relu'),\n",
    "    layers.MaxPooling2D((2, 2)),\n",
    "    layers.Conv2D(128, (3, 3), activation='relu'),\n",
    "    layers.MaxPooling2D((2, 2)),\n",
    "    layers.Flatten(),\n",
    "    layers.Dense(128, activation='relu'),\n",
    "    layers.Dense(1, activation='sigmoid')\n",
    "])"
   ]
  },
  {
   "cell_type": "code",
   "execution_count": 19,
   "metadata": {
    "id": "tUqmNG8g8Nmg",
    "ExecuteTime": {
     "end_time": "2024-03-30T11:07:23.500463Z",
     "start_time": "2024-03-30T11:07:23.489286Z"
    }
   },
   "outputs": [],
   "source": [
    "model.compile(optimizer='adam',\n",
    "              loss='binary_crossentropy',\n",
    "              metrics=['accuracy'])"
   ]
  },
  {
   "cell_type": "code",
   "execution_count": 20,
   "metadata": {
    "colab": {
     "base_uri": "https://localhost:8080/"
    },
    "id": "I1sc92Lm8RiH",
    "outputId": "c37fe9bd-498e-4370-cd74-56277805c369",
    "ExecuteTime": {
     "end_time": "2024-03-30T11:07:29.170376Z",
     "start_time": "2024-03-30T11:07:24.487808Z"
    }
   },
   "outputs": [
    {
     "name": "stdout",
     "output_type": "stream",
     "text": [
      "Epoch 1/10\n",
      "\u001B[1m2/2\u001B[0m \u001B[32m━━━━━━━━━━━━━━━━━━━━\u001B[0m\u001B[37m\u001B[0m \u001B[1m2s\u001B[0m 329ms/step - accuracy: 0.5956 - loss: 0.6843 - val_accuracy: 0.3590 - val_loss: 0.7926\n",
      "Epoch 2/10\n",
      "\u001B[1m2/2\u001B[0m \u001B[32m━━━━━━━━━━━━━━━━━━━━\u001B[0m\u001B[37m\u001B[0m \u001B[1m0s\u001B[0m 135ms/step - accuracy: 0.5877 - loss: 0.6240 - val_accuracy: 0.7949 - val_loss: 0.5692\n",
      "Epoch 3/10\n",
      "\u001B[1m2/2\u001B[0m \u001B[32m━━━━━━━━━━━━━━━━━━━━\u001B[0m\u001B[37m\u001B[0m \u001B[1m0s\u001B[0m 142ms/step - accuracy: 0.8439 - loss: 0.4885 - val_accuracy: 0.7179 - val_loss: 0.6044\n",
      "Epoch 4/10\n",
      "\u001B[1m2/2\u001B[0m \u001B[32m━━━━━━━━━━━━━━━━━━━━\u001B[0m\u001B[37m\u001B[0m \u001B[1m0s\u001B[0m 149ms/step - accuracy: 0.9220 - loss: 0.3703 - val_accuracy: 0.6410 - val_loss: 0.6859\n",
      "Epoch 5/10\n",
      "\u001B[1m2/2\u001B[0m \u001B[32m━━━━━━━━━━━━━━━━━━━━\u001B[0m\u001B[37m\u001B[0m \u001B[1m0s\u001B[0m 115ms/step - accuracy: 0.9428 - loss: 0.2480 - val_accuracy: 0.9231 - val_loss: 0.2599\n",
      "Epoch 6/10\n",
      "\u001B[1m2/2\u001B[0m \u001B[32m━━━━━━━━━━━━━━━━━━━━\u001B[0m\u001B[37m\u001B[0m \u001B[1m0s\u001B[0m 111ms/step - accuracy: 0.9779 - loss: 0.1932 - val_accuracy: 0.8718 - val_loss: 0.4071\n",
      "Epoch 7/10\n",
      "\u001B[1m2/2\u001B[0m \u001B[32m━━━━━━━━━━━━━━━━━━━━\u001B[0m\u001B[37m\u001B[0m \u001B[1m0s\u001B[0m 121ms/step - accuracy: 0.9545 - loss: 0.0950 - val_accuracy: 0.9487 - val_loss: 0.3183\n",
      "Epoch 8/10\n",
      "\u001B[1m2/2\u001B[0m \u001B[32m━━━━━━━━━━━━━━━━━━━━\u001B[0m\u001B[37m\u001B[0m \u001B[1m0s\u001B[0m 120ms/step - accuracy: 0.9883 - loss: 0.0722 - val_accuracy: 0.9487 - val_loss: 0.1025\n",
      "Epoch 9/10\n",
      "\u001B[1m2/2\u001B[0m \u001B[32m━━━━━━━━━━━━━━━━━━━━\u001B[0m\u001B[37m\u001B[0m \u001B[1m0s\u001B[0m 103ms/step - accuracy: 0.9766 - loss: 0.0756 - val_accuracy: 0.9231 - val_loss: 0.3103\n",
      "Epoch 10/10\n",
      "\u001B[1m2/2\u001B[0m \u001B[32m━━━━━━━━━━━━━━━━━━━━\u001B[0m\u001B[37m\u001B[0m \u001B[1m0s\u001B[0m 100ms/step - accuracy: 1.0000 - loss: 0.0511 - val_accuracy: 0.8718 - val_loss: 0.5208\n"
     ]
    },
    {
     "data": {
      "text/plain": "<keras.src.callbacks.history.History at 0x222be96bb00>"
     },
     "execution_count": 20,
     "metadata": {},
     "output_type": "execute_result"
    }
   ],
   "source": [
    "# Step 6: Train Model\n",
    "model.fit(X_train, y_train, epochs=10, batch_size=32, validation_data=(X_test, y_test))\n"
   ]
  },
  {
   "cell_type": "code",
   "execution_count": 21,
   "metadata": {
    "colab": {
     "base_uri": "https://localhost:8080/"
    },
    "id": "8YFpDd9x8Yjy",
    "outputId": "7c616f16-99a1-47da-b2f7-6e978804adaa",
    "ExecuteTime": {
     "end_time": "2024-03-30T11:07:30.056565Z",
     "start_time": "2024-03-30T11:07:29.918783Z"
    }
   },
   "outputs": [
    {
     "name": "stdout",
     "output_type": "stream",
     "text": [
      "\u001B[1m2/2\u001B[0m \u001B[32m━━━━━━━━━━━━━━━━━━━━\u001B[0m\u001B[37m\u001B[0m \u001B[1m0s\u001B[0m 9ms/step - accuracy: 0.8937 - loss: 0.4109 \n",
      "Test accuracy: 0.8717948794364929\n"
     ]
    }
   ],
   "source": [
    "test_loss, test_accuracy = model.evaluate(X_test, y_test)\n",
    "print('Test accuracy:', test_accuracy)"
   ]
  },
  {
   "cell_type": "code",
   "execution_count": 22,
   "metadata": {
    "colab": {
     "base_uri": "https://localhost:8080/"
    },
    "id": "eWA3RDpX8tEr",
    "outputId": "c52bbfa5-dcad-47b0-a83f-e8be9b10758c",
    "ExecuteTime": {
     "end_time": "2024-03-30T11:07:32.259850Z",
     "start_time": "2024-03-30T11:07:32.087138Z"
    }
   },
   "outputs": [
    {
     "name": "stdout",
     "output_type": "stream",
     "text": [
      "\u001B[1m1/1\u001B[0m \u001B[32m━━━━━━━━━━━━━━━━━━━━\u001B[0m\u001B[37m\u001B[0m \u001B[1m0s\u001B[0m 105ms/step\n",
      "abnormal10_1800_2.png is ABNORMAL\n"
     ]
    }
   ],
   "source": [
    "import cv2\n",
    "import numpy as np\n",
    "\n",
    "sample_image = 'abnormal10_1800_2.png'\n",
    "\n",
    "# Load the image\n",
    "image = cv2.imread(sample_image)\n",
    "\n",
    "# Check if the image is loaded successfully\n",
    "if image is None:\n",
    "    print(f\"Failed to load {sample_image}\")\n",
    "else:\n",
    "    # Resize the image\n",
    "    image = cv2.resize(image, (image_height, image_width))\n",
    "\n",
    "    # Check if the image is resized successfully\n",
    "    if image is None:\n",
    "        print(f\"Failed to resize {sample_image}\")\n",
    "    else:\n",
    "        # Normalize pixel values\n",
    "        image = image.astype('float32') / 255.0  \n",
    "\n",
    "        # Add batch dimension\n",
    "        image = np.expand_dims(image, axis=0)  \n",
    "\n",
    "        # Make prediction\n",
    "        prediction = model.predict(image)\n",
    "\n",
    "        # Print prediction\n",
    "        if prediction[0][0] > 0.5:\n",
    "            print(sample_image, 'is ABNORMAL')\n",
    "        else:\n",
    "            print(sample_image, 'is NORMAL')\n"
   ]
  },
  {
   "cell_type": "code",
   "execution_count": 23,
   "metadata": {
    "ExecuteTime": {
     "end_time": "2024-03-30T11:07:33.389972Z",
     "start_time": "2024-03-30T11:07:33.139254Z"
    }
   },
   "outputs": [
    {
     "name": "stdout",
     "output_type": "stream",
     "text": [
      "\u001B[1m2/2\u001B[0m \u001B[32m━━━━━━━━━━━━━━━━━━━━\u001B[0m\u001B[37m\u001B[0m \u001B[1m0s\u001B[0m 9ms/step  \n",
      "              precision    recall  f1-score   support\n",
      "\n",
      "    abnormal       1.00      0.80      0.89        25\n",
      "      normal       0.74      1.00      0.85        14\n",
      "\n",
      "    accuracy                           0.87        39\n",
      "   macro avg       0.87      0.90      0.87        39\n",
      "weighted avg       0.91      0.87      0.87        39\n"
     ]
    }
   ],
   "source": [
    "from sklearn.metrics import classification_report\n",
    "\n",
    "y_pred = model.predict(X_test)\n",
    "y_pred_classes = (y_pred > 0.5).astype(\"int32\")\n",
    "\n",
    "print(classification_report(y_test, y_pred_classes, target_names=['abnormal', 'normal']))\n",
    "#print(classification_report(y_test, y_pred_classes))\n"
   ]
  },
  {
   "cell_type": "code",
   "outputs": [
    {
     "name": "stdout",
     "output_type": "stream",
     "text": [
      "Confusion Matrix:\n",
      "[[20  5]\n",
      " [ 0 14]]\n"
     ]
    }
   ],
   "source": [
    "from sklearn.metrics import confusion_matrix\n",
    "\n",
    "cm = confusion_matrix(y_test, y_pred_classes)\n",
    "\n",
    "print(\"Confusion Matrix:\")\n",
    "print(cm)"
   ],
   "metadata": {
    "collapsed": false,
    "ExecuteTime": {
     "end_time": "2024-03-30T11:07:33.944963Z",
     "start_time": "2024-03-30T11:07:33.936172Z"
    }
   },
   "execution_count": 24
  },
  {
   "cell_type": "code",
   "outputs": [
    {
     "data": {
      "text/plain": "<Figure size 800x600 with 2 Axes>",
      "image/png": "[encoded data removed]"
     },
     "metadata": {},
     "output_type": "display_data"
    }
   ],
   "source": [
    "import matplotlib.pyplot as plt\n",
    "import seaborn as sns\n",
    "\n",
    "cm = confusion_matrix(y_test, y_pred_classes)\n",
    "\n",
    "plt.figure(figsize=(8,6))\n",
    "sns.heatmap(cm, annot=True, cmap=\"BuGn\", fmt=\"d\", xticklabels=['abnormal', 'normal'], yticklabels=['abnormal', 'normal'])\n",
    "plt.xlabel(\"Predicted\")\n",
    "plt.ylabel(\"Actual\")\n",
    "plt.title(\"Confusion Matrix\")\n",
    "plt.show()"
   ],
   "metadata": {
    "collapsed": false,
    "ExecuteTime": {
     "end_time": "2024-03-30T11:07:35.056408Z",
     "start_time": "2024-03-30T11:07:34.779101Z"
    }
   },
   "execution_count": 25
  },
  {
   "cell_type": "code",
   "outputs": [],
   "source": [],
   "metadata": {
    "collapsed": false,
    "ExecuteTime": {
     "end_time": "2024-03-30T11:07:35.969541Z",
     "start_time": "2024-03-30T11:07:35.963057Z"
    }
   },
   "execution_count": 25
  }
 ],
 "metadata": {
  "colab": {
   "provenance": []
  },
  "kernelspec": {
   "display_name": "Python 3 (ipykernel)",
   "language": "python",
   "name": "python3"
  },
  "language_info": {
   "codemirror_mode": {
    "name": "ipython",
    "version": 3
   },
   "file_extension": ".py",
   "mimetype": "text/x-python",
   "name": "python",
   "nbconvert_exporter": "python",
   "pygments_lexer": "ipython3",
   "version": "3.7.0"
  }
 },
 "nbformat": 4,
 "nbformat_minor": 1
}
