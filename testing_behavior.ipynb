{
 "cells": [
  {
   "cell_type": "code",
   "execution_count": 1,
   "metadata": {
    "ExecuteTime": {
     "end_time": "2024-03-15T05:43:59.943970Z",
     "start_time": "2024-03-15T05:43:52.326238Z"
    },
    "id": "KEfsnjZY2JqI"
   },
   "outputs": [],
   "source": [
    "import os\n",
    "import numpy as np\n",
    "import cv2\n",
    "from sklearn.model_selection import train_test_split\n",
    "from tensorflow.keras import layers, models"
   ]
  },
  {
   "cell_type": "code",
   "execution_count": 2,
   "metadata": {
    "ExecuteTime": {
     "end_time": "2024-03-15T05:43:59.950371Z",
     "start_time": "2024-03-15T05:43:59.946209Z"
    },
    "id": "bAUB3CcnM65V"
   },
   "outputs": [],
   "source": [
    "image_height, image_width = 64, 64"
   ]
  },
  {
   "cell_type": "code",
   "execution_count": 3,
   "metadata": {
    "ExecuteTime": {
     "end_time": "2024-03-15T05:44:00.322279Z",
     "start_time": "2024-03-15T05:43:59.951376Z"
    },
    "id": "Hf6F3hy4P5na"
   },
   "outputs": [
    {
     "data": {
      "text/plain": [
       "array([0, 0, 0, 0, 0, 0, 0, 0, 0, 0, 0, 0, 0, 0, 0, 0, 0, 0, 0, 0, 0, 0,\n",
       "       0, 0, 0, 0, 0, 0, 0, 0, 0, 0, 0, 0, 0, 0, 0, 0, 0, 0, 0, 0, 0, 0,\n",
       "       0, 0, 0, 0, 0, 0, 0, 0, 0, 0, 0, 1, 1, 1, 1, 1, 1, 1, 1, 1, 1, 1,\n",
       "       1, 1, 1, 1, 1, 1, 1, 1, 1, 1, 1, 1, 1, 1, 1, 1, 1, 1, 1, 1, 1, 1,\n",
       "       1, 1, 1, 1, 1, 1, 1, 1])"
      ]
     },
     "execution_count": 3,
     "metadata": {},
     "output_type": "execute_result"
    }
   ],
   "source": [
    "def load_data(folder_path):\n",
    "    X = []\n",
    "    y = []\n",
    "    for label, subfolder in enumerate(['normal', 'abnormal']):\n",
    "        subfolder_path = os.path.join(folder_path, subfolder)\n",
    "        for image_filename in os.listdir(subfolder_path):\n",
    "            image_path = os.path.join(subfolder_path, image_filename)\n",
    "            image = cv2.imread(image_path)\n",
    "            image = cv2.resize(image, (image_height, image_width))\n",
    "            image = image.astype('float32') / 255.0  # Normalize pixel values\n",
    "            X.append(image)\n",
    "            y.append(label)\n",
    "    return np.array(X), np.array(y)\n",
    "\n",
    "dataset_path = 'dataset'\n",
    "X, y = load_data(dataset_path)\n",
    "X\n",
    "y"
   ]
  },
  {
   "cell_type": "code",
   "execution_count": 5,
   "metadata": {
    "ExecuteTime": {
     "end_time": "2024-03-15T05:44:00.335282Z",
     "start_time": "2024-03-15T05:44:00.324284Z"
    },
    "id": "qe0j2suL3Aqo"
   },
   "outputs": [],
   "source": [
    "# Step 3: Split Data\n",
    "X_train, X_test, y_train, y_test = train_test_split(X, y, test_size=0.4, random_state=42)"
   ]
  },
  {
   "cell_type": "code",
   "execution_count": 6,
   "metadata": {
    "ExecuteTime": {
     "end_time": "2024-03-15T05:44:00.508659Z",
     "start_time": "2024-03-15T05:44:00.337288Z"
    },
    "id": "EFKGTWTI8J6m"
   },
   "outputs": [
    {
     "name": "stderr",
     "output_type": "stream",
     "text": [
      "c:\\Projects\\FishBehavioralAnaylsis\\.venv\\Lib\\site-packages\\keras\\src\\layers\\convolutional\\base_conv.py:99: UserWarning: Do not pass an `input_shape`/`input_dim` argument to a layer. When using Sequential models, prefer using an `Input(shape)` object as the first layer in the model instead.\n",
      "  super().__init__(\n"
     ]
    }
   ],
   "source": [
    "model = models.Sequential([\n",
    "    layers.Conv2D(32, (3, 3), activation='relu', input_shape=(image_height, image_width, 3)),\n",
    "    layers.MaxPooling2D((2, 2)),\n",
    "    layers.Conv2D(64, (3, 3), activation='relu'),\n",
    "    layers.MaxPooling2D((2, 2)),\n",
    "    layers.Conv2D(128, (3, 3), activation='relu'),\n",
    "    layers.MaxPooling2D((2, 2)),\n",
    "    layers.Flatten(),\n",
    "    layers.Dense(128, activation='relu'),\n",
    "    layers.Dense(1, activation='sigmoid')\n",
    "])"
   ]
  },
  {
   "cell_type": "code",
   "execution_count": 7,
   "metadata": {
    "ExecuteTime": {
     "end_time": "2024-03-15T05:44:11.580972Z",
     "start_time": "2024-03-15T05:44:11.561948Z"
    },
    "id": "tUqmNG8g8Nmg"
   },
   "outputs": [],
   "source": [
    "model.compile(optimizer='adam',\n",
    "              loss='binary_crossentropy',\n",
    "              metrics=['accuracy'])"
   ]
  },
  {
   "cell_type": "code",
   "execution_count": 8,
   "metadata": {
    "ExecuteTime": {
     "end_time": "2024-03-15T05:44:16.402670Z",
     "start_time": "2024-03-15T05:44:12.417626Z"
    },
    "colab": {
     "base_uri": "https://localhost:8080/"
    },
    "id": "I1sc92Lm8RiH",
    "outputId": "c37fe9bd-498e-4370-cd74-56277805c369"
   },
   "outputs": [
    {
     "name": "stdout",
     "output_type": "stream",
     "text": [
      "Epoch 1/10\n",
      "\u001b[1m2/2\u001b[0m \u001b[32m━━━━━━━━━━━━━━━━━━━━\u001b[0m\u001b[37m\u001b[0m \u001b[1m2s\u001b[0m 322ms/step - accuracy: 0.5747 - loss: 0.6868 - val_accuracy: 0.3846 - val_loss: 0.7321\n",
      "Epoch 2/10\n",
      "\u001b[1m2/2\u001b[0m \u001b[32m━━━━━━━━━━━━━━━━━━━━\u001b[0m\u001b[37m\u001b[0m \u001b[1m0s\u001b[0m 114ms/step - accuracy: 0.7230 - loss: 0.5824 - val_accuracy: 0.7949 - val_loss: 0.5009\n",
      "Epoch 3/10\n",
      "\u001b[1m2/2\u001b[0m \u001b[32m━━━━━━━━━━━━━━━━━━━━\u001b[0m\u001b[37m\u001b[0m \u001b[1m0s\u001b[0m 101ms/step - accuracy: 0.8218 - loss: 0.4571 - val_accuracy: 0.4103 - val_loss: 0.9292\n",
      "Epoch 4/10\n",
      "\u001b[1m2/2\u001b[0m \u001b[32m━━━━━━━━━━━━━━━━━━━━\u001b[0m\u001b[37m\u001b[0m \u001b[1m0s\u001b[0m 103ms/step - accuracy: 0.7100 - loss: 0.4274 - val_accuracy: 0.8974 - val_loss: 0.3107\n",
      "Epoch 5/10\n",
      "\u001b[1m2/2\u001b[0m \u001b[32m━━━━━━━━━━━━━━━━━━━━\u001b[0m\u001b[37m\u001b[0m \u001b[1m0s\u001b[0m 132ms/step - accuracy: 0.9337 - loss: 0.2494 - val_accuracy: 0.6154 - val_loss: 0.7045\n",
      "Epoch 6/10\n",
      "\u001b[1m2/2\u001b[0m \u001b[32m━━━━━━━━━━━━━━━━━━━━\u001b[0m\u001b[37m\u001b[0m \u001b[1m0s\u001b[0m 90ms/step - accuracy: 0.9441 - loss: 0.2028 - val_accuracy: 0.9487 - val_loss: 0.1610\n",
      "Epoch 7/10\n",
      "\u001b[1m2/2\u001b[0m \u001b[32m━━━━━━━━━━━━━━━━━━━━\u001b[0m\u001b[37m\u001b[0m \u001b[1m0s\u001b[0m 86ms/step - accuracy: 0.9779 - loss: 0.1653 - val_accuracy: 0.8718 - val_loss: 0.4878\n",
      "Epoch 8/10\n",
      "\u001b[1m2/2\u001b[0m \u001b[32m━━━━━━━━━━━━━━━━━━━━\u001b[0m\u001b[37m\u001b[0m \u001b[1m0s\u001b[0m 83ms/step - accuracy: 0.9662 - loss: 0.1124 - val_accuracy: 1.0000 - val_loss: 0.1289\n",
      "Epoch 9/10\n",
      "\u001b[1m2/2\u001b[0m \u001b[32m━━━━━━━━━━━━━━━━━━━━\u001b[0m\u001b[37m\u001b[0m \u001b[1m0s\u001b[0m 91ms/step - accuracy: 1.0000 - loss: 0.0646 - val_accuracy: 0.9487 - val_loss: 0.0690\n",
      "Epoch 10/10\n",
      "\u001b[1m2/2\u001b[0m \u001b[32m━━━━━━━━━━━━━━━━━━━━\u001b[0m\u001b[37m\u001b[0m \u001b[1m0s\u001b[0m 107ms/step - accuracy: 1.0000 - loss: 0.0620 - val_accuracy: 0.8718 - val_loss: 0.4413\n"
     ]
    },
    {
     "data": {
      "text/plain": [
       "<keras.src.callbacks.history.History at 0x1fb1c401a30>"
      ]
     },
     "execution_count": 8,
     "metadata": {},
     "output_type": "execute_result"
    }
   ],
   "source": [
    "# Step 6: Train Model\n",
    "model.fit(X_train, y_train, epochs=10, batch_size=32, validation_data=(X_test, y_test))\n"
   ]
  },
  {
   "cell_type": "code",
   "execution_count": 9,
   "metadata": {
    "ExecuteTime": {
     "end_time": "2024-03-15T05:44:18.281215Z",
     "start_time": "2024-03-15T05:44:18.157331Z"
    },
    "colab": {
     "base_uri": "https://localhost:8080/"
    },
    "id": "8YFpDd9x8Yjy",
    "outputId": "7c616f16-99a1-47da-b2f7-6e978804adaa"
   },
   "outputs": [
    {
     "name": "stdout",
     "output_type": "stream",
     "text": [
      "\u001b[1m2/2\u001b[0m \u001b[32m━━━━━━━━━━━━━━━━━━━━\u001b[0m\u001b[37m\u001b[0m \u001b[1m0s\u001b[0m 17ms/step - accuracy: 0.8937 - loss: 0.3668\n",
      "Test accuracy: 0.8717948794364929\n"
     ]
    }
   ],
   "source": [
    "test_loss, test_accuracy = model.evaluate(X_test, y_test)\n",
    "print('Test accuracy:', test_accuracy)"
   ]
  },
  {
   "cell_type": "code",
   "execution_count": 10,
   "metadata": {
    "ExecuteTime": {
     "end_time": "2024-03-15T05:46:07.404274Z",
     "start_time": "2024-03-15T05:46:07.308475Z"
    },
    "colab": {
     "base_uri": "https://localhost:8080/"
    },
    "id": "eWA3RDpX8tEr",
    "outputId": "c52bbfa5-dcad-47b0-a83f-e8be9b10758c"
   },
   "outputs": [
    {
     "name": "stdout",
     "output_type": "stream",
     "text": [
      "\u001b[1m1/1\u001b[0m \u001b[32m━━━━━━━━━━━━━━━━━━━━\u001b[0m\u001b[37m\u001b[0m \u001b[1m0s\u001b[0m 128ms/step\n",
      "abnormal10_9900.png is ABNORMAL\n"
     ]
    }
   ],
   "source": [
    "import cv2\n",
    "import numpy as np\n",
    "\n",
    "sample_image = 'abnormal10_9900.png'\n",
    "\n",
    "# Load the image\n",
    "image = cv2.imread(sample_image)\n",
    "\n",
    "# Check if the image is loaded successfully\n",
    "if image is None:\n",
    "    print(f\"Failed to load {sample_image}\")\n",
    "else:\n",
    "    # Resize the image\n",
    "    image = cv2.resize(image, (image_height, image_width))\n",
    "\n",
    "    # Check if the image is resized successfully\n",
    "    if image is None:\n",
    "        print(f\"Failed to resize {sample_image}\")\n",
    "    else:\n",
    "        # Normalize pixel values\n",
    "        image = image.astype('float32') / 255.0  \n",
    "\n",
    "        # Add batch dimension\n",
    "        image = np.expand_dims(image, axis=0)  \n",
    "\n",
    "        # Make prediction\n",
    "        prediction = model.predict(image)\n",
    "\n",
    "        # Print prediction\n",
    "        if prediction[0][0] > 0.5:\n",
    "            print(sample_image, 'is ABNORMAL')\n",
    "        else:\n",
    "            print(sample_image, 'is NORMAL')\n"
   ]
  }
 ],
 "metadata": {
  "colab": {
   "provenance": []
  },
  "kernelspec": {
   "display_name": "Python 3 (ipykernel)",
   "language": "python",
   "name": "python3"
  },
  "language_info": {
   "codemirror_mode": {
    "name": "ipython",
    "version": 3
   },
   "file_extension": ".py",
   "mimetype": "text/x-python",
   "name": "python",
   "nbconvert_exporter": "python",
   "pygments_lexer": "ipython3",
   "version": "3.12.2"
  }
 },
 "nbformat": 4,
 "nbformat_minor": 1
}
